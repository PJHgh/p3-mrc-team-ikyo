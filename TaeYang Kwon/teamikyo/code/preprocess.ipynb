{
 "cells": [
  {
   "cell_type": "code",
   "execution_count": 1,
   "id": "d9a9c744-77d3-4ddc-84ba-e2645c14b387",
   "metadata": {},
   "outputs": [],
   "source": [
    "import re\n",
    "from datasets import load_metric, load_from_disk, load_dataset, Features, Value, Sequence, DatasetDict, Dataset\n",
    "\n",
    "def preprocess(text):\n",
    "    text = re.sub(r'\\n', ' ', text)\n",
    "    text = re.sub(r\"\\\\n\", \" \", text)\n",
    "    text = re.sub(r\"\\s+\", \" \", text)\n",
    "    text = re.sub(r'#', ' ', text)\n",
    "    text = re.sub(r\"[^a-zA-Z0-9가-힣ㄱ-ㅎㅏ-ㅣぁ-ゔァ-ヴー々〆〤一-龥<>()\\s\\.\\?!》《≪≫\\'<>〈〉:‘’%,『』「」＜＞・\\\"-“”∧]\", \"\", text)\n",
    "    return text\n",
    "\n",
    "def run_preprocess(data_dict):\n",
    "    context = data_dict[\"context\"]\n",
    "    start_ids = data_dict[\"answers\"][\"answer_start\"][0]\n",
    "    \n",
    "    before = data_dict[\"context\"][:start_ids]\n",
    "    after = data_dict[\"context\"][start_ids:]\n",
    "    \n",
    "    process_before = preprocess(before)\n",
    "    process_after = preprocess(after)\n",
    "    process_data = process_before + process_after\n",
    "    \n",
    "    ids_move = len(before) - len(process_before)\n",
    "    \n",
    "    data_dict[\"context\"] = process_data\n",
    "    data_dict[\"answers\"][\"answer_start\"][0] = start_ids - ids_move\n",
    "    \n",
    "    return data_dict\n",
    "\n",
    "def check(data_list):\n",
    "    for data in data_list:\n",
    "        start_ids = data[\"answers\"][\"answer_start\"][0]\n",
    "        end_ids = start_ids + len(data[\"answers\"][\"text\"][0])\n",
    "        if data[\"answers\"][\"text\"][0] != data[\"context\"][start_ids : end_ids]:\n",
    "            print(\"wrong\")\n",
    "            return\n",
    "    print(\"good\")"
   ]
  },
  {
   "cell_type": "code",
   "execution_count": 2,
   "id": "075ed34e-2cde-4435-8be3-12de1e645bfc",
   "metadata": {},
   "outputs": [],
   "source": [
    "from datasets import load_metric, load_from_disk, load_dataset, Features, Value, Sequence, DatasetDict, Dataset\n",
    "\n",
    "train_data = load_from_disk(\"/opt/ml/input/data/data/train_dataset\")[\"train\"]\n",
    "val_data = load_from_disk(\"/opt/ml/input/data/data/train_dataset\")[\"validation\"]\n",
    "test_data = load_from_disk(\"/opt/ml/input/data/data/test_dataset\")[\"validation\"]"
   ]
  },
  {
   "cell_type": "code",
   "execution_count": 3,
   "id": "62347682-f748-46d0-9f8a-b63029932cd4",
   "metadata": {},
   "outputs": [
    {
     "name": "stdout",
     "output_type": "stream",
     "text": [
      "good\n"
     ]
    }
   ],
   "source": [
    "new_train_data = []\n",
    "for data in train_data:\n",
    "    new_data = run_preprocess(data)\n",
    "    new_train_data.append(new_data)\n",
    "    \n",
    "check(new_train_data)"
   ]
  },
  {
   "cell_type": "code",
   "execution_count": 4,
   "id": "ded7ff45-b0fb-4175-852b-c26230a54f33",
   "metadata": {},
   "outputs": [
    {
     "name": "stdout",
     "output_type": "stream",
     "text": [
      "good\n"
     ]
    }
   ],
   "source": [
    "new_val_data = []\n",
    "for data in val_data:\n",
    "    new_data = run_preprocess(data)\n",
    "    new_val_data.append(new_data)\n",
    "    \n",
    "check(new_val_data)"
   ]
  },
  {
   "cell_type": "code",
   "execution_count": 5,
   "id": "e460e47a-a0af-4151-a874-03a72f92b7ff",
   "metadata": {},
   "outputs": [],
   "source": [
    "import pandas as pd\n",
    "\n",
    "train_df = pd.DataFrame(new_train_data)\n",
    "val_df = pd.DataFrame(new_val_data)"
   ]
  },
  {
   "cell_type": "code",
   "execution_count": 6,
   "id": "a1aadb4e-a62d-4957-bfd9-6d8593996310",
   "metadata": {},
   "outputs": [
    {
     "name": "stdout",
     "output_type": "stream",
     "text": [
      "     title                                            context  \\\n",
      "0    미국 상원  미국 상의원 또는 미국 상원(United States Senate)은 양원제인 미국...   \n",
      "1   인사조직관리  '근대적 경영학' 또는 '고전적 경영학'에서 현대적 경영학으로 전환되는 시기는 19...   \n",
      "2      강희제  강희제는 강화된 황권으로 거의 황제 중심의 독단적으로 나라를 이끌어 갔기에 자칫 전...   \n",
      "3   금동삼존불감  불상을 모시기 위해 나무나 돌, 쇠 등을 깎아 일반적인 건축물보다 작은 규모로 만든...   \n",
      "4  계사명 사리구  동아대학교박물관에서 소장하고 있는 계사명 사리구는 총 4개의 용기로 구성된 조선후기...   \n",
      "\n",
      "                                  question            id  \\\n",
      "0         대통령을 포함한 미국의 행정부 견제권을 갖는 국가 기관은?  mrc-1-000067   \n",
      "1                   현대적 인사조직관리의 시발점이 된 책은?  mrc-0-004397   \n",
      "2           강희제가 1717년에 쓴 글은 누구를 위해 쓰여졌는가?  mrc-1-000362   \n",
      "3  11~12세기에 제작된 본존불은 보통 어떤 나라의 특징이 전파되었나요?  mrc-0-001510   \n",
      "4               명문이 적힌 유물을 구성하는 그릇의 총 개수는?  mrc-0-000823   \n",
      "\n",
      "                                         answers  document_id  \\\n",
      "0        {'answer_start': [229], 'text': ['하원']}        18293   \n",
      "1  {'answer_start': [212], 'text': ['《경영의 실제》']}        51638   \n",
      "2        {'answer_start': [503], 'text': ['백성']}         5028   \n",
      "3        {'answer_start': [615], 'text': ['중국']}        34146   \n",
      "4         {'answer_start': [30], 'text': ['4개']}        47334   \n",
      "\n",
      "   __index_level_0__  \n",
      "0                 42  \n",
      "1               2873  \n",
      "2                230  \n",
      "3                992  \n",
      "4                548  \n"
     ]
    }
   ],
   "source": [
    "print(train_df.head())"
   ]
  },
  {
   "cell_type": "code",
   "execution_count": 7,
   "id": "098d2f20-01ac-4b04-9c90-a828f54f769e",
   "metadata": {},
   "outputs": [
    {
     "name": "stdout",
     "output_type": "stream",
     "text": [
      "   title                                            context  \\\n",
      "0    전효숙  순천여자고등학교 졸업, 1973년 이화여자대학교를 졸업하고 1975년 제17회 사법...   \n",
      "1  스토우빌선  요크 카운티 동쪽에 처음으로 여객 열차 운행이 시작한 시점은 1868년 토론토 & ...   \n",
      "2     촐라  촐라 정부 촐라의 정부 체제는 전제군주제였으며,2001 촐라의 군주는 절대적인 권력...   \n",
      "3  백조 기사  프랑스의 십자군 무훈시는 1099년 예루살렘 왕국의 통치자가 된 고드프루아 드 부용...   \n",
      "4  탈관료제화  탈관료제화는 현대사회에서 관료제 성격이 약화되는 현상이다. 현대사회에서 관료제는 약...   \n",
      "\n",
      "                               question            id  \\\n",
      "0        처음으로 부실 경영인에 대한 보상 선고를 받은 회사는?  mrc-0-003264   \n",
      "1  스카버러 남쪽과 코보콘그 마을의 철도 노선이 처음 연장된 연도는?  mrc-0-004762   \n",
      "2       촌락에서 운영 위원 후보자 이름을 쓰기위해 사용된 것은?  mrc-1-001810   \n",
      "3              로타이르가 백조를 구하기 위해 사용한 것은?  mrc-1-000219   \n",
      "4    의견을 자유롭게 나누는 것은 조직 내 어떤 관계에서 가능한가?  mrc-1-000285   \n",
      "\n",
      "                                       answers  document_id  __index_level_0__  \n",
      "0    {'answer_start': [281], 'text': ['한보철강']}         9027               2146  \n",
      "1   {'answer_start': [146], 'text': ['1871년']}        51765               3106  \n",
      "2     {'answer_start': [509], 'text': ['나뭇잎']}        15694               1180  \n",
      "3    {'answer_start': [1100], 'text': ['금대야']}        59536                141  \n",
      "4  {'answer_start': [383], 'text': ['수평적 관계']}        32991                184  \n"
     ]
    }
   ],
   "source": [
    "print(val_df.head())"
   ]
  },
  {
   "cell_type": "code",
   "execution_count": 8,
   "id": "290cda84-8a42-46ba-86d9-94cc1cc7a414",
   "metadata": {},
   "outputs": [],
   "source": [
    "test_f = Features({'context': Value(dtype='string', id=None),\n",
    "                'id': Value(dtype='string', id=None),\n",
    "                'question': Value(dtype='string', id=None)})\n",
    "\n",
    "train_f = Features({'answers': Sequence(feature={'text': Value(dtype='string', id=None), 'answer_start': Value(dtype='int32', id=None)}, length=-1, id=None),\n",
    "                    'context': Value(dtype='string', id=None),\n",
    "                    'id': Value(dtype='string', id=None),\n",
    "                    'question': Value(dtype='string', id=None)})"
   ]
  },
  {
   "cell_type": "code",
   "execution_count": 9,
   "id": "6c02e062-fbce-4e9e-8062-6483dfc41ab3",
   "metadata": {},
   "outputs": [],
   "source": [
    "train_datasets = DatasetDict({'train': Dataset.from_pandas(train_df, features=train_f), 'validation': Dataset.from_pandas(val_df, features=train_f)})"
   ]
  },
  {
   "cell_type": "code",
   "execution_count": 10,
   "id": "4490783e-c5f2-49ed-a25e-17183d40db49",
   "metadata": {},
   "outputs": [
    {
     "name": "stdout",
     "output_type": "stream",
     "text": [
      "DatasetDict({\n",
      "    train: Dataset({\n",
      "        features: ['answers', 'context', 'id', 'question'],\n",
      "        num_rows: 3952\n",
      "    })\n",
      "    validation: Dataset({\n",
      "        features: ['answers', 'context', 'id', 'question'],\n",
      "        num_rows: 240\n",
      "    })\n",
      "})\n"
     ]
    }
   ],
   "source": [
    "print(train_datasets)"
   ]
  },
  {
   "cell_type": "code",
   "execution_count": 11,
   "id": "8e8641c7-1c44-4614-802b-f389b42df36d",
   "metadata": {},
   "outputs": [],
   "source": [
    "import pickle\n",
    "def save_pickle(save_path, data_set):\n",
    "    file = open(save_path, \"wb\")\n",
    "    pickle.dump(data_set, file)\n",
    "    file.close()\n",
    "\n",
    "def get_pickle(pickle_path):\n",
    "    f = open(pickle_path, \"rb\")\n",
    "    dataset = pickle.load(f)\n",
    "    f.close()\n",
    "    return dataset\n",
    "\n",
    "save_pickle(\"/opt/ml/input/data/preprocess_train.pkl\", train_datasets)"
   ]
  },
  {
   "cell_type": "code",
   "execution_count": 12,
   "id": "87d527bb-8d00-456d-86a7-c92c89d67d6d",
   "metadata": {},
   "outputs": [
    {
     "name": "stdout",
     "output_type": "stream",
     "text": [
      "DatasetDict({\n",
      "    train: Dataset({\n",
      "        features: ['answers', 'context', 'id', 'question'],\n",
      "        num_rows: 3952\n",
      "    })\n",
      "    validation: Dataset({\n",
      "        features: ['answers', 'context', 'id', 'question'],\n",
      "        num_rows: 240\n",
      "    })\n",
      "})\n"
     ]
    }
   ],
   "source": [
    "preprocess_dataset= get_pickle(\"/opt/ml/input/data/preprocess_train.pkl\")\n",
    "print(preprocess_dataset)"
   ]
  },
  {
   "cell_type": "code",
   "execution_count": 13,
   "id": "7e39237f-4c81-40d0-84d4-f0a63af83200",
   "metadata": {},
   "outputs": [
    {
     "name": "stdout",
     "output_type": "stream",
     "text": [
      "전용선 발착의 컨테이너 화물, 전용선 발착의 차급 화물을 취급하고 있다. 화물 열차는 하루 1회 왕복, 이나자와 역과의 전용화물열차가 운행되고 있다. 그 열차로 연결되었던 컨테이너 차나 유개차는 이나자와 역부터 먼저, 다른 열차로 주계되어서 일본 전국으로 수송되고 있다. 남문쪽의 측선의 나고야 방향부터, 역 남쪽에 있는 오지 제지 가스가이 공장으로 이어지는 전용선이 분기하고 있다. 전용선은 유개차나 컨테이너 차를 사용하는 종이 제품의 발송으로 사용하고 있다. 유개차의 발송처는 니자 화물 터미널 역의 IPC 니자. 전용선은 일요일 이외 매일 화차의 출입이 있어, 화차의 견인은 네피아의 로고를 붙였던 스위처가 행해지고 있다. 더욱이, 이 오지 제지 전용선은, 구 일본 육군 조병 공창 도리이마쓰 공장으로의 전용선을 운용했던 것이라고 되어 있다. 오지 제지 전용선부터 분기하는 아이치 전기 전용선도 있다. 대형 변압기 수송에 사용되고 있지만, 공장으로 직접 연결되지는 않고, 가스가이 시내에 있는 이 회사 공장부터 변압기를 반환하는 대형 차로 쌓이고 있다. 특수 수송때문에 빈번히 사용되는 일은 없다. 1945년경까지, 가스가이 시 니시야마 정 부근에 있던 나고야 육군 조병창 다카키 제조소 니시야마 분창(부지는 육상 자위대 가스가이 주둔지)으로 이어지는 전용선도 존재했다. 선로 터의 대부분이 도로로 전용되어, 일부에 철교가 남아져 있다.\n"
     ]
    }
   ],
   "source": [
    "print(preprocess_dataset[\"validation\"][\"context\"][200])"
   ]
  },
  {
   "cell_type": "code",
   "execution_count": 14,
   "id": "0b47c1bf-7b82-4ef3-ab61-d14abc2689e9",
   "metadata": {},
   "outputs": [
    {
     "data": {
      "text/plain": [
       "{'answer_start': [281], 'text': ['한보철강']}"
      ]
     },
     "execution_count": 14,
     "metadata": {},
     "output_type": "execute_result"
    }
   ],
   "source": [
    "preprocess_dataset[\"validation\"][\"answers\"][0]"
   ]
  },
  {
   "cell_type": "code",
   "execution_count": 15,
   "id": "511846e4-0255-4ffe-bdb1-a3748f03cc5b",
   "metadata": {},
   "outputs": [
    {
     "name": "stdout",
     "output_type": "stream",
     "text": [
      "{'text': '이 문서는 나라 목록이며, 전 세계 206개 나라의 각 현황과 주권 승인 정보를 개요 형태로 나열하고 있다.\\n\\n이 목록은 명료화를 위해 두 부분으로 나뉘어 있다.\\n\\n# 첫 번째 부분은 바티칸 시국과 팔레스타인을 포함하여 유엔 등 국제 기구에 가입되어 국제적인 승인을 널리 받았다고 여기는 195개 나라를 나열하고 있다.\\n# 두 번째 부분은 일부 지역의 주권을 사실상 (데 팍토) 행사하고 있지만, 아직 국제적인 승인을 널리 받지 않았다고 여기는 11개 나라를 나열하고 있다.\\n\\n두 목록은 모두 가나다 순이다.\\n\\n일부 국가의 경우 국가로서의 자격에 논쟁의 여부가 있으며, 이 때문에 이러한 목록을 엮는 것은 매우 어렵고 논란이 생길 수 있는 과정이다. 이 목록을 구성하고 있는 국가를 선정하는 기준에 대한 정보는 \"포함 기준\" 단락을 통해 설명하였다. 나라에 대한 일반적인 정보는 \"국가\" 문서에서 설명하고 있다.', 'corpus_source': '위키피디아', 'url': 'TODO', 'domain': None, 'title': '나라 목록', 'author': None, 'html': None, 'document_id': 0}\n"
     ]
    }
   ],
   "source": [
    "import json\n",
    "with open(\"/opt/ml/input/data/data/wikipedia_documents.json\", \"r\") as f:\n",
    "    wiki = json.load(f)\n",
    "print(wiki[\"0\"])"
   ]
  },
  {
   "cell_type": "code",
   "execution_count": 16,
   "id": "7b36a6f2-b0ac-44b2-9b8f-58d30d76277f",
   "metadata": {},
   "outputs": [],
   "source": [
    "import re\n",
    "from datasets import load_metric, load_from_disk, load_dataset, Features, Value, Sequence, DatasetDict, Dataset\n",
    "\n",
    "def preprocess(text):\n",
    "    text = re.sub(r'\\n', ' ', text)\n",
    "    text = re.sub(r\"\\\\n\", \" \", text)\n",
    "    text = re.sub(r\"\\s+\", \" \", text)\n",
    "    text = re.sub(r'#', ' ', text)\n",
    "    text = re.sub(r\"[^a-zA-Z0-9가-힣ㄱ-ㅎㅏ-ㅣぁ-ゔァ-ヴー々〆〤一-龥<>()\\s\\.\\?!》《≪≫\\'<>〈〉:‘’%,『』「」＜＞・\\\"-“”∧]\", \"\", text)\n",
    "    return text\n",
    "\n",
    "def run_preprocess(data_dict):\n",
    "    context = data_dict[\"text\"]\n",
    "    process_data = preprocess(context)\n",
    "    data_dict[\"text\"] = process_data\n",
    "    \n",
    "    return data_dict"
   ]
  },
  {
   "cell_type": "code",
   "execution_count": 17,
   "id": "a3a9b294-0180-4a97-9e4d-83e648232503",
   "metadata": {},
   "outputs": [],
   "source": [
    "new_wiki = dict()\n",
    "for ids in range(len(wiki)):\n",
    "    new_wiki[str(ids)] = run_preprocess(wiki[str(ids)])"
   ]
  },
  {
   "cell_type": "code",
   "execution_count": 18,
   "id": "5b03ddc5-34af-40ee-bafe-a4f39e6147d2",
   "metadata": {},
   "outputs": [],
   "source": [
    "with open('/opt/ml/input/data/preprocess_wiki.json', 'w', encoding='utf-8') as make_file:\n",
    "    json.dump(new_wiki, make_file, indent=\"\\t\", ensure_ascii=False)"
   ]
  },
  {
   "cell_type": "code",
   "execution_count": 19,
   "id": "41f1f46f-e35c-4533-905d-2d4bac62ce2a",
   "metadata": {},
   "outputs": [
    {
     "name": "stdout",
     "output_type": "stream",
     "text": [
      "{'text': '이 문서는 나라 목록이며, 전 세계 206개 나라의 각 현황과 주권 승인 정보를 개요 형태로 나열하고 있다. 이 목록은 명료화를 위해 두 부분으로 나뉘어 있다.   첫 번째 부분은 바티칸 시국과 팔레스타인을 포함하여 유엔 등 국제 기구에 가입되어 국제적인 승인을 널리 받았다고 여기는 195개 나라를 나열하고 있다.   두 번째 부분은 일부 지역의 주권을 사실상 (데 팍토) 행사하고 있지만, 아직 국제적인 승인을 널리 받지 않았다고 여기는 11개 나라를 나열하고 있다. 두 목록은 모두 가나다 순이다. 일부 국가의 경우 국가로서의 자격에 논쟁의 여부가 있으며, 이 때문에 이러한 목록을 엮는 것은 매우 어렵고 논란이 생길 수 있는 과정이다. 이 목록을 구성하고 있는 국가를 선정하는 기준에 대한 정보는 \"포함 기준\" 단락을 통해 설명하였다. 나라에 대한 일반적인 정보는 \"국가\" 문서에서 설명하고 있다.', 'corpus_source': '위키피디아', 'url': 'TODO', 'domain': None, 'title': '나라 목록', 'author': None, 'html': None, 'document_id': 0}\n"
     ]
    }
   ],
   "source": [
    "with open('/opt/ml/input/data/preprocess_wiki.json', \"r\") as f:\n",
    "    new_wiki = json.load(f)\n",
    "print(new_wiki[\"0\"])\n"
   ]
  }
 ],
 "metadata": {
  "kernelspec": {
   "display_name": "Python 3",
   "language": "python",
   "name": "python3"
  },
  "language_info": {
   "codemirror_mode": {
    "name": "ipython",
    "version": 3
   },
   "file_extension": ".py",
   "mimetype": "text/x-python",
   "name": "python",
   "nbconvert_exporter": "python",
   "pygments_lexer": "ipython3",
   "version": "3.7.7"
  }
 },
 "nbformat": 4,
 "nbformat_minor": 5
}
