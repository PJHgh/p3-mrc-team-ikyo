{
 "cells": [
  {
   "cell_type": "code",
   "execution_count": 18,
   "id": "f6d8e2a0-3ff4-4279-97c1-9f7e7649b38c",
   "metadata": {},
   "outputs": [],
   "source": [
    "import json\n",
    "from datasets import load_from_disk\n",
    "from torch.utils.data import DataLoader, TensorDataset"
   ]
  },
  {
   "cell_type": "code",
   "execution_count": 19,
   "id": "2eacdcfd-8cd3-47d2-b89f-449f1e822174",
   "metadata": {},
   "outputs": [],
   "source": [
    "train_file = load_from_disk(\"/opt/ml/input/data/data/train_dataset\")[\"train\"]\n",
    "validation_file = load_from_disk(\"/opt/ml/input/data/data/train_dataset\")[\"validation\"]\n",
    "\n",
    "with open(\"/opt/ml/lastcode/dataset/preprocess_wiki.json\", \"r\") as f:\n",
    "    wiki = json.load(f)\n",
    "wiki_contexts = list(dict.fromkeys([v['text'] for v in wiki.values()]))\n",
    "#wiki_articles = [{\"document_text\" : wiki_contexts[i]} for i in range(len(wiki_contexts))]"
   ]
  },
  {
   "cell_type": "code",
   "execution_count": 20,
   "id": "780e5ec9-1821-4bec-a53a-59b41e725864",
   "metadata": {},
   "outputs": [
    {
     "name": "stdout",
     "output_type": "stream",
     "text": [
      "{'text': \"텍스트 파일을 아오조라 문고에 수록할 때, 텍스트 파일이 갖추어야 할 서식을 '아오조라 문고' 형식이라 부른다. 아오조라 문고 형식은 텍스트 파일로서 많은 환경에서 읽을 수 있도록 규격화되어있다. 때문에 가능한 한 원본의 충실한 재현을 목표로 삼고 있지만, 줄 바꿈이나 삽화 등의 정보는 원칙적으로 포함되지 않는다. 아오조라 문고 형식에 대응하는 텍스트 뷰어와 텍스트 편집기도 존재하며, 올림문자와 방점 등도 재현할 수 있다. 또 이러한 텍스트 뷰어에서는 본래 아오조라 문고 형식에 포함되지 않았던 삽화 정보를 삽입하거나 세로쓰기로 표시할 수 있으며, 텍스트를 읽기 쉽도록 만드는 다양한 기능이 포함되어 있다. 이러한 소프트웨어는 유료와 무료를 불문하고 종류가 다양하다.\", 'corpus_source': '위키피디아', 'url': 'TODO', 'domain': None, 'title': '아오조라 문고', 'author': None, 'html': None, 'document_id': 6}\n",
      "55963\n"
     ]
    }
   ],
   "source": [
    "print(wiki[str(6)])\n",
    "print(len(wiki_contexts))"
   ]
  },
  {
   "cell_type": "code",
   "execution_count": 21,
   "id": "48137bed-9e6f-48fb-a976-c0e37d801cff",
   "metadata": {},
   "outputs": [],
   "source": [
    "qa_records = [{\"example_id\" : train_file[i][\"id\"], \"document_title\" : train_file[i][\"title\"], \"question_text\" : train_file[i][\"question\"], \"answer\" : train_file[i][\"answers\"]} for i in range(len(train_file))]\n",
    "wiki_articles = [{\"document_text\" : wiki_contexts[i]} for i in range(len(wiki_contexts))]\n",
    "#wiki_articles = [{\"document_text\" : wiki_contexts[i][\"text\"], \"document_title\" : wiki_contexts[i][\"title\"], \"id\" : wiki_contexts[i][\"document_id\"]} for i in range(len(wiki_contexts))]\n"
   ]
  },
  {
   "cell_type": "code",
   "execution_count": 22,
   "id": "c639e1c4-96d0-4b03-a611-bbb995662bf1",
   "metadata": {},
   "outputs": [
    {
     "name": "stdout",
     "output_type": "stream",
     "text": [
      "{'example_id': 'mrc-1-000067', 'document_title': '미국 상원', 'question_text': '대통령을 포함한 미국의 행정부 견제권을 갖는 국가 기관은?', 'answer': {'answer_start': [235], 'text': ['하원']}}\n"
     ]
    }
   ],
   "source": [
    "print(qa_records[0])"
   ]
  },
  {
   "cell_type": "code",
   "execution_count": 6,
   "id": "ceb7fb8f-7079-4414-812f-7d44313b8f68",
   "metadata": {},
   "outputs": [
    {
     "ename": "KeyError",
     "evalue": "'id'",
     "output_type": "error",
     "traceback": [
      "\u001b[0;31m---------------------------------------------------------------------------\u001b[0m",
      "\u001b[0;31mKeyError\u001b[0m                                  Traceback (most recent call last)",
      "\u001b[0;32m<ipython-input-6-30b087c5303f>\u001b[0m in \u001b[0;36m<module>\u001b[0;34m\u001b[0m\n\u001b[0;32m----> 1\u001b[0;31m \u001b[0mprint\u001b[0m\u001b[0;34m(\u001b[0m\u001b[0mtype\u001b[0m\u001b[0;34m(\u001b[0m\u001b[0mwiki_articles\u001b[0m\u001b[0;34m[\u001b[0m\u001b[0;36m0\u001b[0m\u001b[0;34m]\u001b[0m\u001b[0;34m[\u001b[0m\u001b[0;34m\"id\"\u001b[0m\u001b[0;34m]\u001b[0m\u001b[0;34m)\u001b[0m\u001b[0;34m)\u001b[0m\u001b[0;34m\u001b[0m\u001b[0;34m\u001b[0m\u001b[0m\n\u001b[0m",
      "\u001b[0;31mKeyError\u001b[0m: 'id'"
     ]
    }
   ],
   "source": [
    "print(type(wiki_articles[0][\"id\"]))"
   ]
  },
  {
   "cell_type": "code",
   "execution_count": null,
   "id": "1b553b92-0d33-4497-bf85-a702bd2dffa4",
   "metadata": {},
   "outputs": [],
   "source": [
    "# # download elasticsearch\n",
    "# ! wget https://artifacts.elastic.co/downloads/elasticsearch/elasticsearch-7.6.2-linux-x86_64.tar.gz -q\n",
    "# ! tar -xzf elasticsearch-7.6.2-linux-x86_64.tar.gz\n",
    "# ! chown -R daemon:daemon elasticsearch-7.6.2"
   ]
  },
  {
   "cell_type": "code",
   "execution_count": 7,
   "id": "bb2e0e95-9591-47f2-afaf-138f9e844fc7",
   "metadata": {},
   "outputs": [],
   "source": [
    "import os\n",
    "from subprocess import Popen, PIPE, STDOUT\n",
    "es_server = Popen(['elasticsearch-7.6.2/bin/elasticsearch'],\n",
    "                   stdout=PIPE, stderr=STDOUT,\n",
    "                   preexec_fn=lambda: os.setuid(1)  # as daemon\n",
    "                  )\n",
    "# wait until ES has started\n",
    "! sleep 30"
   ]
  },
  {
   "cell_type": "code",
   "execution_count": 9,
   "id": "d842772e-9c57-48bb-994f-9c9af40a8055",
   "metadata": {},
   "outputs": [],
   "source": [
    "# collapse-hide\n",
    "# !pip install elasticsearch\n",
    "# !pip install tqdm"
   ]
  },
  {
   "cell_type": "code",
   "execution_count": 8,
   "id": "1b6b2231-0acd-4af2-99ff-37e04a106d12",
   "metadata": {},
   "outputs": [
    {
     "data": {
      "text/plain": [
       "True"
      ]
     },
     "execution_count": 8,
     "metadata": {},
     "output_type": "execute_result"
    }
   ],
   "source": [
    "from elasticsearch import Elasticsearch\n",
    "\n",
    "config = {'host':'localhost', 'port':9200}\n",
    "es = Elasticsearch([config])\n",
    "\n",
    "# test connection\n",
    "es.ping()"
   ]
  },
  {
   "cell_type": "code",
   "execution_count": 9,
   "id": "105bcffa-8d9d-46dd-8999-7792b335ce81",
   "metadata": {},
   "outputs": [],
   "source": [
    "# es.indices.delete(index='nori-index', ignore=[400, 404])\n",
    "# es.indices.delete(index='ngram-bm25-index', ignore=[400, 404])\n",
    "# es.indices.delete(index='nori-dfr-index ', ignore=[400, 404])\n",
    "# es.indices.delete(index='squad-standard-index', ignore=[400, 404])"
   ]
  },
  {
   "cell_type": "code",
   "execution_count": 10,
   "id": "58a0ab19-7941-4e8f-8dff-27f0663da81b",
   "metadata": {},
   "outputs": [
    {
     "data": {
      "text/plain": [
       "{'acknowledged': True, 'shards_acknowledged': True, 'index': 'nori-index'}"
      ]
     },
     "execution_count": 10,
     "metadata": {},
     "output_type": "execute_result"
    }
   ],
   "source": [
    "es.indices.delete(index='nori-index', ignore=[400, 404])\n",
    "index_config = {\n",
    "        \"settings\": {\n",
    "            \"analysis\": {\n",
    "                \"analyzer\": {\n",
    "                    \"nori_analyzer\": {\n",
    "                        \"type\": \"custom\",\n",
    "                        \"tokenizer\": \"nori_tokenizer\",\n",
    "                        \"decompound_mode\": \"mixed\",\n",
    "                        \"stopwords\": \"_korean_\",\n",
    "                    }\n",
    "                }\n",
    "            }\n",
    "        },\n",
    "        \"mappings\": {\n",
    "            \"dynamic\": \"strict\", \n",
    "            \"properties\": {\n",
    "                \"document_text\": {\"type\": \"text\", \"analyzer\": \"nori_analyzer\"}\n",
    "                }\n",
    "            }\n",
    "        }\n",
    "\n",
    "index_name = 'nori-index'\n",
    "es.indices.create(index=index_name, body=index_config, ignore=400)"
   ]
  },
  {
   "cell_type": "code",
   "execution_count": 11,
   "id": "d054c687-b2c3-4614-9dfc-663c989bc36a",
   "metadata": {},
   "outputs": [],
   "source": [
    "# collapse-hide\n",
    "from tqdm.notebook import tqdm\n",
    "\n",
    "def populate_index(es_obj, index_name, evidence_corpus):\n",
    "    '''\n",
    "    Loads records into an existing Elasticsearch index\n",
    "\n",
    "    Args:\n",
    "        es_obj (elasticsearch.client.Elasticsearch) - Elasticsearch client object\n",
    "        index_name (str) - Name of index\n",
    "        evidence_corpus (list) - List of dicts containing data records\n",
    "\n",
    "    '''\n",
    "\n",
    "    for i, rec in enumerate(tqdm(evidence_corpus)):\n",
    "    \n",
    "        try:\n",
    "            index_status = es_obj.index(index=index_name, id=i, body=rec)\n",
    "        except:\n",
    "            print(f'Unable to load document {i}.')\n",
    "            \n",
    "    n_records = es_obj.count(index=index_name)['count']\n",
    "    print(f'Succesfully loaded {n_records} into {index_name}')\n",
    "\n",
    "\n",
    "    return"
   ]
  },
  {
   "cell_type": "code",
   "execution_count": 12,
   "id": "2f7f460b-ed24-4b64-8eba-fba9f19d64a3",
   "metadata": {},
   "outputs": [
    {
     "data": {
      "application/vnd.jupyter.widget-view+json": {
       "model_id": "56ddc1cedf76468184a4e58af83121a9",
       "version_major": 2,
       "version_minor": 0
      },
      "text/plain": [
       "HBox(children=(FloatProgress(value=0.0, max=55963.0), HTML(value='')))"
      ]
     },
     "metadata": {},
     "output_type": "display_data"
    },
    {
     "name": "stdout",
     "output_type": "stream",
     "text": [
      "Unable to load document 21954.\n",
      "\n",
      "Succesfully loaded 55963 into nori-index\n"
     ]
    }
   ],
   "source": [
    "all_wiki_articles = wiki_articles\n",
    "\n",
    "populate_index(es_obj=es, index_name='nori-index', evidence_corpus=all_wiki_articles)"
   ]
  },
  {
   "cell_type": "code",
   "execution_count": 13,
   "id": "76d82acb-c4c7-49b7-b3ba-c5a9084b2de1",
   "metadata": {},
   "outputs": [],
   "source": [
    "# collapse-hide\n",
    "def search_es(es_obj, index_name, question_text, n_results):\n",
    "    '''\n",
    "    Execute an Elasticsearch query on a specified index\n",
    "    \n",
    "    Args:\n",
    "        es_obj (elasticsearch.client.Elasticsearch) - Elasticsearch client object\n",
    "        index_name (str) - Name of index to query\n",
    "        query (dict) - Query DSL\n",
    "        n_results (int) - Number of results to return\n",
    "        \n",
    "    Returns\n",
    "        res - Elasticsearch response object\n",
    "    \n",
    "    '''\n",
    "    \n",
    "    # construct query\n",
    "    query = {\n",
    "            'query': {\n",
    "                'match': {\n",
    "                    'document_text': question_text\n",
    "                    }\n",
    "                }\n",
    "            }\n",
    "    \n",
    "    res = es_obj.search(index=index_name, body=query, size=n_results)\n",
    "    \n",
    "    return res"
   ]
  },
  {
   "cell_type": "code",
   "execution_count": 14,
   "id": "ce13b7a2-02b8-4399-9d24-45133acdf7ca",
   "metadata": {},
   "outputs": [],
   "source": [
    "question_text = \"대통령을 포함한 미국의 행정부 견제권을 갖는 국가 기관은?\"\n",
    "\n",
    "# execute query\n",
    "res = search_es(es_obj=es, index_name='nori-index', question_text=question_text, n_results=20)"
   ]
  },
  {
   "cell_type": "code",
   "execution_count": 15,
   "id": "25f572ac-95b0-4ee2-bd0b-f4a8a5e57721",
   "metadata": {},
   "outputs": [
    {
     "name": "stdout",
     "output_type": "stream",
     "text": [
      "Question: 대통령을 포함한 미국의 행정부 견제권을 갖는 국가 기관은?\n",
      "Query Duration: 14 milliseconds\n",
      "Title, Relevance Score:\n"
     ]
    }
   ],
   "source": [
    "print(f'Question: {question_text}')\n",
    "print(f'Query Duration: {res[\"took\"]} milliseconds')\n",
    "print('Title, Relevance Score:')\n",
    "context_list = [(hit['_source']['document_text'], hit['_score']) for hit in res['hits']['hits']]"
   ]
  },
  {
   "cell_type": "code",
   "execution_count": 16,
   "id": "643ffbef-d6d2-4b58-8570-8b1f3ddc2e06",
   "metadata": {
    "tags": []
   },
   "outputs": [],
   "source": [
    "# collapse-hide\n",
    "import numpy as np\n",
    "import pandas as pd\n",
    "\n",
    "def average_precision(binary_results):\n",
    "    \n",
    "    ''' Calculates the average precision for a list of binary indicators '''\n",
    "    \n",
    "    m = 0\n",
    "    precs = []\n",
    "\n",
    "    for i, val in enumerate(binary_results):\n",
    "        if val == 1:\n",
    "            m += 1\n",
    "            precs.append(sum(binary_results[:i+1])/(i+1))\n",
    "            \n",
    "    ap = (1/m)*np.sum(precs) if m else 0\n",
    "            \n",
    "    return ap\n",
    "\n",
    "\n",
    "def evaluate_retriever(es_obj, index_name, qa_records, n_results):\n",
    "    '''\n",
    "    This function loops through a set of question/answer examples from SQuAD2.0 and \n",
    "    evaluates Elasticsearch as a information retrieval tool in terms of recall, mAP, and query duration.\n",
    "    \n",
    "    Args:\n",
    "        es_obj (elasticsearch.client.Elasticsearch) - Elasticsearch client object\n",
    "        index_name (str) - name of index to query\n",
    "        qa_records (list) - list of qa_records from preprocessing steps\n",
    "        n_results (int) - the number of results ElasticSearch should return for a given query\n",
    "        \n",
    "    Returns:\n",
    "        test_results_df (pd.DataFrame) - a dataframe recording search results info for every example in qa_records\n",
    "    \n",
    "    '''\n",
    "    \n",
    "    results = []\n",
    "    \n",
    "    for i, qa in enumerate(tqdm(qa_records)):\n",
    "        \n",
    "        ex_id = qa['example_id']\n",
    "        question = \n",
    "        answer = qa['answer']\n",
    "        \n",
    "        # execute query\n",
    "        res = search_es(es_obj=es_obj, index_name=index_name, question_text=question, n_results=n_results)\n",
    "        \n",
    "        # calculate performance metrics from query response info\n",
    "        duration = res['took']\n",
    "        binary_results = [int(answer[\"text\"][0].lower() in doc['_source']['document_text'].lower()) for doc in res['hits']['hits']]\n",
    "        ans_in_res = int(any(binary_results))\n",
    "        ap = average_precision(binary_results)\n",
    "\n",
    "        rec = (ex_id, question, answer, duration, ans_in_res, ap)\n",
    "        results.append(rec)\n",
    "    \n",
    "    # format results dataframe\n",
    "    cols = ['example_id', 'question', 'answer', 'query_duration', 'answer_present', 'average_precision']\n",
    "    results_df = pd.DataFrame(results, columns=cols)\n",
    "    \n",
    "    # format results dict\n",
    "    metrics = {'Recall': results_df.answer_present.value_counts(normalize=True)[1],\n",
    "               'Mean Average Precision': results_df.average_precision.mean(),\n",
    "               'Average Query Duration':results_df.query_duration.mean()\n",
    "              }\n",
    "               \n",
    "    \n",
    "    return results_df, metrics"
   ]
  },
  {
   "cell_type": "code",
   "execution_count": 29,
   "id": "2f2b26bd-2ce4-4ea5-a5dc-0ea9917a2419",
   "metadata": {},
   "outputs": [
    {
     "data": {
      "application/vnd.jupyter.widget-view+json": {
       "model_id": "f32a7a8c5a884ab39e56557ed471f337",
       "version_major": 2,
       "version_minor": 0
      },
      "text/plain": [
       "HBox(children=(FloatProgress(value=0.0, max=3952.0), HTML(value='')))"
      ]
     },
     "metadata": {},
     "output_type": "display_data"
    },
    {
     "name": "stdout",
     "output_type": "stream",
     "text": [
      "\n"
     ]
    }
   ],
   "source": [
    "all_qa_records = qa_records\n",
    "qa_records_answerable = [record for record in all_qa_records if record['answer'] != '']\n",
    "\n",
    "# run evaluation\n",
    "results_df, metrics = evaluate_retriever(es_obj=es, index_name='nori-index', qa_records=qa_records_answerable, n_results=20)"
   ]
  },
  {
   "cell_type": "code",
   "execution_count": 30,
   "id": "65deca99-4ba4-4155-ab9a-98a546a7ec59",
   "metadata": {},
   "outputs": [
    {
     "data": {
      "text/plain": [
       "{'Recall': 0.9461032388663968,\n",
       " 'Mean Average Precision': 0.7185290783416389,\n",
       " 'Average Query Duration': 9.699645748987853}"
      ]
     },
     "execution_count": 30,
     "metadata": {},
     "output_type": "execute_result"
    }
   ],
   "source": [
    "metrics"
   ]
  },
  {
   "cell_type": "code",
   "execution_count": 21,
   "id": "5e81b04e-f29d-492e-a304-a09675a2b4d0",
   "metadata": {},
   "outputs": [
    {
     "data": {
      "application/vnd.jupyter.widget-view+json": {
       "model_id": "6f44c5a1e49a43b28553df38ad8ba9ee",
       "version_major": 2,
       "version_minor": 0
      },
      "text/plain": [
       "HBox(children=(FloatProgress(value=0.0, max=60613.0), HTML(value='')))"
      ]
     },
     "metadata": {},
     "output_type": "display_data"
    },
    {
     "name": "stdout",
     "output_type": "stream",
     "text": [
      "\n",
      "Succesfully loaded 60613 into nori-dfr-index\n"
     ]
    },
    {
     "data": {
      "application/vnd.jupyter.widget-view+json": {
       "model_id": "88d5194dbbf84b348dc5a7f1ac10eb1f",
       "version_major": 2,
       "version_minor": 0
      },
      "text/plain": [
       "HBox(children=(FloatProgress(value=0.0, max=3952.0), HTML(value='')))"
      ]
     },
     "metadata": {},
     "output_type": "display_data"
    },
    {
     "name": "stdout",
     "output_type": "stream",
     "text": [
      "\n",
      "{'Recall': 0.715334008097166, 'Mean Average Precision': 0.715334008097166, 'Average Query Duration': 11.179402834008098}\n"
     ]
    }
   ],
   "source": [
    "es.indices.delete(index='nori-dfr-index', ignore=[400, 404])\n",
    "index_config = {\n",
    "        \"settings\": {\n",
    "            \"analysis\": {\n",
    "                \"analyzer\": {\n",
    "                    \"nori_analyzer\": {\n",
    "                        \"type\": \"custom\",\n",
    "                        \"tokenizer\": \"nori_tokenizer\",\n",
    "                        \"decompound_mode\": \"mixed\",\n",
    "                        \"stopwords\": \"_korean_\",\n",
    "                    }\n",
    "                }\n",
    "            },\n",
    "            \"index\": {\n",
    "                \"similarity\":{\n",
    "                    \"my_similarity\": {\n",
    "                        \"type\": \"DFR\",\n",
    "                        \"basic_model\": \"g\",\n",
    "                        \"after_effect\": \"l\",\n",
    "                        \"normalization\": \"h2\",\n",
    "                        \"normalization.h2.c\": \"3.0\"\n",
    "                    }\n",
    "                }\n",
    "            }\n",
    "        },\n",
    "        \"mappings\": {\n",
    "            \"dynamic\": \"strict\", \n",
    "            \"properties\": {\n",
    "                \"document_text\": {\"type\": \"text\", \"analyzer\": \"nori_analyzer\", \"similarity\" : \"my_similarity\"},\n",
    "                \"document_title\": {\"type\": \"text\", \"analyzer\": \"nori_analyzer\", \"similarity\" : \"my_similarity\"},\n",
    "                \"id\": {\"type\" : \"integer\"},\n",
    "                }\n",
    "            }\n",
    "        }\n",
    "\n",
    "es.indices.create(index='nori-dfr-index', body=index_config, ignore=400)\n",
    "populate_index(es_obj=es, index_name='nori-dfr-index', evidence_corpus=all_wiki_articles)\n",
    "dfr_results_df, dfr_stem_metrics = evaluate_retriever(es_obj=es, index_name='nori-dfr-index', qa_records=qa_records_answerable, n_results=1)\n",
    "print(dfr_stem_metrics)"
   ]
  },
  {
   "cell_type": "code",
   "execution_count": 22,
   "id": "150ce3be-f963-4382-8b32-df959261d78c",
   "metadata": {},
   "outputs": [
    {
     "data": {
      "application/vnd.jupyter.widget-view+json": {
       "model_id": "eb17b5c2a56141dd996a4eacbc190c07",
       "version_major": 2,
       "version_minor": 0
      },
      "text/plain": [
       "HBox(children=(FloatProgress(value=0.0, max=60613.0), HTML(value='')))"
      ]
     },
     "metadata": {},
     "output_type": "display_data"
    },
    {
     "name": "stdout",
     "output_type": "stream",
     "text": [
      "\n",
      "Succesfully loaded 60613 into nori-dfi-index\n"
     ]
    },
    {
     "data": {
      "application/vnd.jupyter.widget-view+json": {
       "model_id": "fef71caef29144329e1e66ec8f7f27d3",
       "version_major": 2,
       "version_minor": 0
      },
      "text/plain": [
       "HBox(children=(FloatProgress(value=0.0, max=3952.0), HTML(value='')))"
      ]
     },
     "metadata": {},
     "output_type": "display_data"
    },
    {
     "name": "stdout",
     "output_type": "stream",
     "text": [
      "\n",
      "{'Recall': 0.694585020242915, 'Mean Average Precision': 0.694585020242915, 'Average Query Duration': 26.84741902834008}\n"
     ]
    }
   ],
   "source": [
    "es.indices.delete(index='nori-dfi-index', ignore=[400, 404])\n",
    "index_config = {\n",
    "        \"settings\": {\n",
    "            \"analysis\": {\n",
    "                \"analyzer\": {\n",
    "                    \"nori_analyzer\": {\n",
    "                        \"type\": \"custom\",\n",
    "                        \"tokenizer\": \"nori_tokenizer\",\n",
    "                        \"decompound_mode\": \"mixed\",\n",
    "                        \"stopwords\": \"_korean_\",\n",
    "                    }\n",
    "                }\n",
    "            },\n",
    "            \"index\": {\n",
    "                \"similarity\":{\n",
    "                    \"my_similarity\": {\n",
    "                        \"type\": \"DFI\",\n",
    "                        \"independence_measure\": \"saturated\"\n",
    "                    }\n",
    "                }\n",
    "            }\n",
    "        },\n",
    "        \"mappings\": {\n",
    "            \"dynamic\": \"strict\", \n",
    "            \"properties\": {\n",
    "                \"document_text\": {\"type\": \"text\", \"analyzer\": \"nori_analyzer\", \"similarity\" : \"my_similarity\"},\n",
    "                \"document_title\": {\"type\": \"text\", \"analyzer\": \"nori_analyzer\", \"similarity\" : \"my_similarity\"},\n",
    "                \"id\": {\"type\" : \"integer\"},\n",
    "                }\n",
    "            }\n",
    "        }\n",
    "\n",
    "es.indices.create(index='nori-dfi-index', body=index_config, ignore=400)\n",
    "populate_index(es_obj=es, index_name='nori-dfi-index', evidence_corpus=all_wiki_articles)\n",
    "dfr_results_df, dfr_stem_metrics = evaluate_retriever(es_obj=es, index_name='nori-dfi-index', qa_records=qa_records_answerable, n_results=1)\n",
    "print(dfr_stem_metrics)"
   ]
  },
  {
   "cell_type": "code",
   "execution_count": 23,
   "id": "33b450c9-2e51-4f9f-9b81-0aaefba85d57",
   "metadata": {},
   "outputs": [
    {
     "data": {
      "application/vnd.jupyter.widget-view+json": {
       "model_id": "968e4b944ca546509077b78a19de4e1c",
       "version_major": 2,
       "version_minor": 0
      },
      "text/plain": [
       "HBox(children=(FloatProgress(value=0.0, max=60613.0), HTML(value='')))"
      ]
     },
     "metadata": {},
     "output_type": "display_data"
    },
    {
     "name": "stdout",
     "output_type": "stream",
     "text": [
      "Unable to load document 24711.\n",
      "Unable to load document 58517.\n",
      "\n",
      "Succesfully loaded 60613 into nori-ib-index\n"
     ]
    },
    {
     "data": {
      "application/vnd.jupyter.widget-view+json": {
       "model_id": "de5307ab749740e1b1f79ca2aa4a8920",
       "version_major": 2,
       "version_minor": 0
      },
      "text/plain": [
       "HBox(children=(FloatProgress(value=0.0, max=3952.0), HTML(value='')))"
      ]
     },
     "metadata": {},
     "output_type": "display_data"
    },
    {
     "name": "stdout",
     "output_type": "stream",
     "text": [
      "\n",
      "{'Recall': 0.6447368421052632, 'Mean Average Precision': 0.6447368421052632, 'Average Query Duration': 38.584514170040485}\n"
     ]
    }
   ],
   "source": [
    "es.indices.delete(index='nori-ib-index', ignore=[400, 404])\n",
    "index_config = {\n",
    "        \"settings\": {\n",
    "            \"analysis\": {\n",
    "                \"analyzer\": {\n",
    "                    \"nori_analyzer\": {\n",
    "                        \"type\": \"custom\",\n",
    "                        \"tokenizer\": \"nori_tokenizer\",\n",
    "                        \"decompound_mode\": \"mixed\",\n",
    "                        \"stopwords\": \"_korean_\",\n",
    "                    }\n",
    "                }\n",
    "            },\n",
    "            \"index\": {\n",
    "                \"similarity\":{\n",
    "                    \"my_similarity\": {\n",
    "                        \"type\": \"IB\",\n",
    "                        \"distribution\" : \"ll\",\n",
    "                        \"lambda\" : \"df\",\n",
    "                        \"normalization\": \"h2\",\n",
    "                        \"normalization.h2.c\": \"3.0\"\n",
    "                    }\n",
    "                }\n",
    "            }\n",
    "        },\n",
    "        \"mappings\": {\n",
    "            \"dynamic\": \"strict\", \n",
    "            \"properties\": {\n",
    "                \"document_text\": {\"type\": \"text\", \"analyzer\": \"nori_analyzer\", \"similarity\" : \"my_similarity\"},\n",
    "                \"document_title\": {\"type\": \"text\", \"analyzer\": \"nori_analyzer\", \"similarity\" : \"my_similarity\"},\n",
    "                \"id\": {\"type\" : \"integer\"},\n",
    "                }\n",
    "            }\n",
    "        }\n",
    "\n",
    "es.indices.create(index='nori-ib-index', body=index_config, ignore=400)\n",
    "populate_index(es_obj=es, index_name='nori-ib-index', evidence_corpus=all_wiki_articles)\n",
    "dfr_results_df, dfr_stem_metrics = evaluate_retriever(es_obj=es, index_name='nori-ib-index', qa_records=qa_records_answerable, n_results=1)\n",
    "print(dfr_stem_metrics)"
   ]
  },
  {
   "cell_type": "code",
   "execution_count": null,
   "id": "2f8ee0bb-33d0-47e9-9123-abce9945b050",
   "metadata": {},
   "outputs": [],
   "source": [
    " 0.6955971659919028"
   ]
  },
  {
   "cell_type": "code",
   "execution_count": 24,
   "id": "68b73981-3422-492f-b509-f3ffed206520",
   "metadata": {},
   "outputs": [
    {
     "data": {
      "application/vnd.jupyter.widget-view+json": {
       "model_id": "92b9d58b9ece4c6babb7787bdd546053",
       "version_major": 2,
       "version_minor": 0
      },
      "text/plain": [
       "HBox(children=(FloatProgress(value=0.0, max=60613.0), HTML(value='')))"
      ]
     },
     "metadata": {},
     "output_type": "display_data"
    },
    {
     "name": "stdout",
     "output_type": "stream",
     "text": [
      "\n",
      "Succesfully loaded 60613 into nori-lmd-index\n"
     ]
    },
    {
     "data": {
      "application/vnd.jupyter.widget-view+json": {
       "model_id": "8cf62ceaf4c44033bf123cb5dbc118ba",
       "version_major": 2,
       "version_minor": 0
      },
      "text/plain": [
       "HBox(children=(FloatProgress(value=0.0, max=3952.0), HTML(value='')))"
      ]
     },
     "metadata": {},
     "output_type": "display_data"
    },
    {
     "name": "stdout",
     "output_type": "stream",
     "text": [
      "\n",
      "{'Recall': 0.7249493927125507, 'Mean Average Precision': 0.7249493927125507, 'Average Query Duration': 32.183704453441294}\n"
     ]
    }
   ],
   "source": [
    "es.indices.delete(index='nori-lmd-index', ignore=[400, 404])\n",
    "index_config = {\n",
    "        \"settings\": {\n",
    "            \"analysis\": {\n",
    "                \"analyzer\": {\n",
    "                    \"nori_analyzer\": {\n",
    "                        \"type\": \"custom\",\n",
    "                        \"tokenizer\": \"nori_tokenizer\",\n",
    "                        \"decompound_mode\": \"mixed\",\n",
    "                        \"stopwords\": \"_korean_\",\n",
    "                    }\n",
    "                }\n",
    "            },\n",
    "            \"index\": {\n",
    "                \"similarity\":{\n",
    "                    \"my_similarity\": {\n",
    "                        \"type\": \"LMDirichlet\",\n",
    "                        \"mu\": 1000\n",
    "                    }\n",
    "                }\n",
    "            }\n",
    "        },\n",
    "        \"mappings\": {\n",
    "            \"dynamic\": \"strict\", \n",
    "            \"properties\": {\n",
    "                \"document_text\": {\"type\": \"text\", \"analyzer\": \"nori_analyzer\", \"similarity\" : \"my_similarity\"},\n",
    "                \"document_title\": {\"type\": \"text\", \"analyzer\": \"nori_analyzer\", \"similarity\" : \"my_similarity\"},\n",
    "                \"id\": {\"type\" : \"integer\"},\n",
    "                }\n",
    "            }\n",
    "        }\n",
    "\n",
    "es.indices.create(index='nori-lmd-index', body=index_config, ignore=400)\n",
    "populate_index(es_obj=es, index_name='nori-lmd-index', evidence_corpus=all_wiki_articles)\n",
    "dfr_results_df, dfr_stem_metrics = evaluate_retriever(es_obj=es, index_name='nori-lmd-index', qa_records=qa_records_answerable, n_results=1)\n",
    "print(dfr_stem_metrics)"
   ]
  },
  {
   "cell_type": "code",
   "execution_count": 25,
   "id": "43c3c678-1604-4bab-9dec-0c0f71700d33",
   "metadata": {},
   "outputs": [
    {
     "data": {
      "application/vnd.jupyter.widget-view+json": {
       "model_id": "d129a604753a41be9434e2d51878e96b",
       "version_major": 2,
       "version_minor": 0
      },
      "text/plain": [
       "HBox(children=(FloatProgress(value=0.0, max=60613.0), HTML(value='')))"
      ]
     },
     "metadata": {},
     "output_type": "display_data"
    },
    {
     "name": "stdout",
     "output_type": "stream",
     "text": [
      "Unable to load document 32746.\n",
      "\n",
      "Succesfully loaded 60613 into nori-lmj-index\n"
     ]
    },
    {
     "data": {
      "application/vnd.jupyter.widget-view+json": {
       "model_id": "5546adf09a924d4e95606509c0e90bdc",
       "version_major": 2,
       "version_minor": 0
      },
      "text/plain": [
       "HBox(children=(FloatProgress(value=0.0, max=3952.0), HTML(value='')))"
      ]
     },
     "metadata": {},
     "output_type": "display_data"
    },
    {
     "name": "stdout",
     "output_type": "stream",
     "text": [
      "\n",
      "{'Recall': 0.7110323886639676, 'Mean Average Precision': 0.7110323886639676, 'Average Query Duration': 26.332995951417004}\n"
     ]
    }
   ],
   "source": [
    "es.indices.delete(index='nori-lmj-index', ignore=[400, 404])\n",
    "index_config = {\n",
    "        \"settings\": {\n",
    "            \"analysis\": {\n",
    "                \"analyzer\": {\n",
    "                    \"nori_analyzer\": {\n",
    "                        \"type\": \"custom\",\n",
    "                        \"tokenizer\": \"nori_tokenizer\",\n",
    "                        \"decompound_mode\": \"mixed\",\n",
    "                        \"stopwords\": \"_korean_\",\n",
    "                    }\n",
    "                }\n",
    "            },\n",
    "            \"index\": {\n",
    "                \"similarity\":{\n",
    "                    \"my_similarity\": {\n",
    "                        \"type\": \"LMJelinekMercer\",\n",
    "                        \"lambda\": 0.7\n",
    "                    }\n",
    "                }\n",
    "            }\n",
    "        },\n",
    "        \"mappings\": {\n",
    "            \"dynamic\": \"strict\", \n",
    "            \"properties\": {\n",
    "                \"document_text\": {\"type\": \"text\", \"analyzer\": \"nori_analyzer\", \"similarity\" : \"my_similarity\"},\n",
    "                \"document_title\": {\"type\": \"text\"},\n",
    "                \"id\": {\"type\" : \"integer\"},\n",
    "                }\n",
    "            }\n",
    "        }\n",
    "\n",
    "es.indices.create(index='nori-lmj-index', body=index_config, ignore=400)\n",
    "populate_index(es_obj=es, index_name='nori-lmj-index', evidence_corpus=all_wiki_articles)\n",
    "dfr_results_df, dfr_stem_metrics = evaluate_retriever(es_obj=es, index_name='nori-lmj-index', qa_records=qa_records_answerable, n_results=1)\n",
    "print(dfr_stem_metrics)"
   ]
  },
  {
   "cell_type": "code",
   "execution_count": null,
   "id": "80094505-43a8-4e86-91e3-3be26d149519",
   "metadata": {},
   "outputs": [],
   "source": []
  }
 ],
 "metadata": {
  "kernelspec": {
   "display_name": "Python 3",
   "language": "python",
   "name": "python3"
  },
  "language_info": {
   "codemirror_mode": {
    "name": "ipython",
    "version": 3
   },
   "file_extension": ".py",
   "mimetype": "text/x-python",
   "name": "python",
   "nbconvert_exporter": "python",
   "pygments_lexer": "ipython3",
   "version": "3.7.7"
  }
 },
 "nbformat": 4,
 "nbformat_minor": 5
}
