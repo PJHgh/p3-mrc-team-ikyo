{
 "cells": [
  {
   "cell_type": "code",
   "execution_count": 6,
   "id": "74ee6ac2-25df-493b-8c78-a5c2a0d01cba",
   "metadata": {},
   "outputs": [],
   "source": [
    "from datasets import load_metric, load_from_disk, Sequence, Value, Features, Dataset, DatasetDict ,load_dataset\n",
    "import pandas as pd\n",
    "import pickle"
   ]
  },
  {
   "cell_type": "code",
   "execution_count": 7,
   "id": "c11712ac-96d9-4564-a299-6c4a519ffcf7",
   "metadata": {},
   "outputs": [],
   "source": [
    "def get_pickle(pickle_path):\n",
    "    f = open(pickle_path, \"rb\")\n",
    "    dataset = pickle.load(f)\n",
    "    f.close()\n",
    "    return dataset"
   ]
  },
  {
   "cell_type": "code",
   "execution_count": 8,
   "id": "a40abe06-b5dd-4338-ac77-f02d2ade4649",
   "metadata": {},
   "outputs": [
    {
     "name": "stderr",
     "output_type": "stream",
     "text": [
      "Reusing dataset squad_kor_v1 (/opt/ml/.cache/huggingface/datasets/squad_kor_v1/squad_kor_v1/1.0.0/31982418accc53b059af090befa81e68880acc667ca5405d30ce6fa7910950a7)\n"
     ]
    },
    {
     "name": "stdout",
     "output_type": "stream",
     "text": [
      "Dataset({\n",
      "    features: ['answers', 'context', 'id', 'question'],\n",
      "    num_rows: 3952\n",
      "})\n",
      "Dataset({\n",
      "    features: ['id', 'title', 'context', 'question', 'answers'],\n",
      "    num_rows: 60407\n",
      "})\n"
     ]
    }
   ],
   "source": [
    "text_data = get_pickle(\"/opt/ml/lastcode/dataset/preprocess_train.pkl\")[\"train\"]\n",
    "koquard_dataset = load_dataset(\"squad_kor_v1\")[\"train\"]\n",
    "print(text_data)\n",
    "print(koquard_dataset)"
   ]
  },
  {
   "cell_type": "code",
   "execution_count": 9,
   "id": "520fad06-4ce3-4544-a3f9-24d4be0f3d9a",
   "metadata": {},
   "outputs": [],
   "source": [
    "df1 = pd.DataFrame(text_data)\n",
    "df2 = pd.DataFrame(koquard_dataset)"
   ]
  },
  {
   "cell_type": "code",
   "execution_count": 10,
   "id": "349ce52a-aaf9-4f71-872e-85a008462f0a",
   "metadata": {},
   "outputs": [
    {
     "name": "stdout",
     "output_type": "stream",
     "text": [
      "3952\n",
      "60407\n"
     ]
    }
   ],
   "source": [
    "print(len(df1))\n",
    "print(len(df2))"
   ]
  },
  {
   "cell_type": "code",
   "execution_count": 12,
   "id": "a4bbefc7-548a-4045-89a3-e73b5713a5aa",
   "metadata": {},
   "outputs": [],
   "source": [
    "train_df = df1[[\"answers\", \"context\", \"id\", \"question\"]]\n",
    "koquard_df = df2[[\"answers\", \"context\", \"id\", \"question\"]]"
   ]
  },
  {
   "cell_type": "code",
   "execution_count": 17,
   "id": "fb18fc3c-1bc2-49dd-8a43-500a8722d7a1",
   "metadata": {},
   "outputs": [
    {
     "name": "stdout",
     "output_type": "stream",
     "text": [
      "<class 'pandas.core.frame.DataFrame'>\n"
     ]
    }
   ],
   "source": [
    "print(type(train_df))\n",
    "total_df = pd.concat([train_df, koquard_df])"
   ]
  },
  {
   "cell_type": "code",
   "execution_count": 18,
   "id": "6509d3fb-6c18-44fd-8c44-5b57ae8c97fb",
   "metadata": {},
   "outputs": [
    {
     "name": "stdout",
     "output_type": "stream",
     "text": [
      "64359\n"
     ]
    }
   ],
   "source": [
    "print(len(total_df))"
   ]
  },
  {
   "cell_type": "code",
   "execution_count": 19,
   "id": "bf878cda-6472-40a7-852d-0df0865f36c0",
   "metadata": {},
   "outputs": [],
   "source": [
    "f = Features({'answers': Sequence(feature={'text': Value(dtype='string', id=None), 'answer_start': Value(dtype='int32', id=None)}, length=-1, id=None),\n",
    "            'context': Value(dtype='string', id=None),\n",
    "            'id': Value(dtype='string', id=None),\n",
    "            'question': Value(dtype='string', id=None)})\n",
    "\n",
    "total_datasets = DatasetDict({'train': Dataset.from_pandas(total_df, features=f)})"
   ]
  },
  {
   "cell_type": "code",
   "execution_count": 20,
   "id": "d9809c00-59c2-4327-87e5-f24b0c04d2b6",
   "metadata": {},
   "outputs": [],
   "source": [
    "import pickle\n",
    "def save_pickle(save_path, data_set):\n",
    "    file = open(save_path, \"wb\")\n",
    "    pickle.dump(data_set, file)\n",
    "    file.close()\n",
    "save_pickle(\"/opt/ml/lastcode/dataset/add_squad_kor_v1_2.pkl\", total_datasets)"
   ]
  },
  {
   "cell_type": "code",
   "execution_count": 21,
   "id": "0b3389e9-79bb-4aae-aaa7-7f0d49773797",
   "metadata": {},
   "outputs": [
    {
     "name": "stdout",
     "output_type": "stream",
     "text": [
      "DatasetDict({\n",
      "    train: Dataset({\n",
      "        features: ['answers', 'context', 'id', 'question'],\n",
      "        num_rows: 64359\n",
      "    })\n",
      "})\n"
     ]
    }
   ],
   "source": [
    "print(total_datasets)"
   ]
  },
  {
   "cell_type": "code",
   "execution_count": 13,
   "id": "164677f4-59ff-4ea4-acb6-bf5438a5ef32",
   "metadata": {},
   "outputs": [],
   "source": [
    "def get_pickle(pickle_path):\n",
    "    f = open(pickle_path, \"rb\")\n",
    "    dataset = pickle.load(f)\n",
    "    f.close()\n",
    "    return dataset\n",
    "\n",
    "dataset = get_pickle(\"/opt/ml/lastcode/dataset/add_squad_kor_v1.pkl\")"
   ]
  },
  {
   "cell_type": "code",
   "execution_count": 14,
   "id": "28d3dd7e-03d8-490d-8221-eef207f463bf",
   "metadata": {},
   "outputs": [
    {
     "name": "stdout",
     "output_type": "stream",
     "text": [
      "DatasetDict({\n",
      "    train: Dataset({\n",
      "        features: ['answers', 'context', 'id', 'question'],\n",
      "        num_rows: 64359\n",
      "    })\n",
      "})\n"
     ]
    }
   ],
   "source": [
    "from data_processing import DataProcessor\n"
   ]
  },
  {
   "cell_type": "code",
   "execution_count": 16,
   "id": "f053a21c-5ddd-4132-aa70-bd3f2f23fbc0",
   "metadata": {},
   "outputs": [
    {
     "name": "stderr",
     "output_type": "stream",
     "text": [
      "IOPub data rate exceeded.\n",
      "The Jupyter server will temporarily stop sending output\n",
      "to the client in order to avoid crashing it.\n",
      "To change this limit, set the config variable\n",
      "`--ServerApp.iopub_data_rate_limit`.\n",
      "\n",
      "Current values:\n",
      "ServerApp.iopub_data_rate_limit=1000000.0 (bytes/sec)\n",
      "ServerApp.rate_limit_window=3.0 (secs)\n",
      "\n"
     ]
    }
   ],
   "source": [
    "print(dataset[\"train\"][\"answers\"])"
   ]
  },
  {
   "cell_type": "code",
   "execution_count": null,
   "id": "820af5a2-ffd4-48b3-8212-7bc7e926d047",
   "metadata": {},
   "outputs": [],
   "source": []
  }
 ],
 "metadata": {
  "kernelspec": {
   "display_name": "Python 3",
   "language": "python",
   "name": "python3"
  },
  "language_info": {
   "codemirror_mode": {
    "name": "ipython",
    "version": 3
   },
   "file_extension": ".py",
   "mimetype": "text/x-python",
   "name": "python",
   "nbconvert_exporter": "python",
   "pygments_lexer": "ipython3",
   "version": "3.7.7"
  }
 },
 "nbformat": 4,
 "nbformat_minor": 5
}
