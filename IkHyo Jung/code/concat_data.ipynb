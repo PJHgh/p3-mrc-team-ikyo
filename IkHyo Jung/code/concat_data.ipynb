{
 "cells": [
  {
   "cell_type": "code",
   "execution_count": 1,
   "id": "427a1c8a-1ae3-4de3-9b2e-e3323da02caa",
   "metadata": {},
   "outputs": [],
   "source": [
    "import json\n",
    "import pickle\n",
    "from datasets import load_from_disk\n",
    "from torch.utils.data import DataLoader, TensorDataset\n",
    "from datasets import load_metric, load_from_disk, load_dataset, Features, Value, Sequence, DatasetDict, Dataset"
   ]
  },
  {
   "cell_type": "code",
   "execution_count": 2,
   "id": "a1a31fff-56df-4205-a1df-24b1be83c7ee",
   "metadata": {},
   "outputs": [],
   "source": [
    "def get_pickle(pickle_path):\n",
    "    f = open(pickle_path, \"rb\")\n",
    "    dataset = pickle.load(f)\n",
    "    f.close()\n",
    "    return dataset\n",
    "\n",
    "# 전처리된 파일 load (피클파일 경로)\n",
    "data = get_pickle(\"/opt/ml/lastcode/dataset/preprocess_train.pkl\")\n",
    "train_file = data[\"train\"]\n",
    "validation_file = data[\"validation\"]"
   ]
  },
  {
   "cell_type": "code",
   "execution_count": 3,
   "id": "a73da1c0-c107-41ee-ad01-413705ffd797",
   "metadata": {},
   "outputs": [
    {
     "name": "stdout",
     "output_type": "stream",
     "text": [
      "{'answers': {'answer_start': [229], 'text': ['하원']}, 'context': '미국 상의원 또는 미국 상원(United States Senate)은 양원제인 미국 의회의 상원이다. 미국 부통령이 상원의장이 된다. 각 주당 2명의 상원의원이 선출되어 100명의 상원의원으로 구성되어 있다. 임기는 6년이며, 2년마다 50개주 중 1/3씩 상원의원을 새로 선출하여 연방에 보낸다. 미국 상원은 미국 하원과는 다르게 미국 대통령을 수반으로 하는 미국 연방 행정부에 각종 동의를 하는 기관이다. 하원이 세금과 경제에 대한 권한, 대통령을 포함한 대다수의 공무원을 파면할 권한을 갖고 있는 국민을 대표하는 기관인 반면 상원은 미국의 주를 대표한다. 즉 캘리포니아주, 일리노이주 같이 주 정부와 주 의회를 대표하는 기관이다. 그로 인하여 군대의 파병, 관료의 임명에 대한 동의, 외국 조약에 대한 승인 등 신속을 요하는 권한은 모두 상원에게만 있다. 그리고 하원에 대한 견제 역할(하원의 법안을 거부할 권한 등)을 담당한다. 2년의 임기로 인하여 급진적일 수밖에 없는 하원은 지나치게 급진적인 법안을 만들기 쉽다. 대표적인 예로 건강보험 개혁 당시 하원이 미국 연방 행정부에게 퍼블릭 옵션(공공건강보험기관)의 조항이 있는 반면 상원의 경우 하원안이 지나치게 세금이 많이 든다는 이유로 퍼블릭 옵션 조항을 제외하고 비영리건강보험기관이나 보험회사가 담당하도록 한 것이다. 이 경우처럼 상원은 하원이나 내각책임제가 빠지기 쉬운 국가들의 국회처럼 걸핏하면 발생하는 의회의 비정상적인 사태를 방지하는 기관이다. 상원은 급박한 처리사항의 경우가 아니면 법안을 먼저 내는 경우가 드물고 하원이 만든 법안을 수정하여 다시 하원에 되돌려보낸다. 이러한 방식으로 단원제가 빠지기 쉬운 함정을 미리 방지하는 것이다.날짜=2017-02-05', 'id': 'mrc-1-000067', 'question': '대통령을 포함한 미국의 행정부 견제권을 갖는 국가 기관은?'}\n"
     ]
    }
   ],
   "source": [
    "print(train_file[0])"
   ]
  },
  {
   "cell_type": "code",
   "execution_count": 4,
   "id": "6ae65b01-24cd-4499-be47-28791a537cf1",
   "metadata": {},
   "outputs": [],
   "source": [
    "train_qa = [{\"id\" : train_file[i][\"id\"], \"question\" : train_file[i][\"question\"], \"answers\" : train_file[i][\"answers\"], \"context\" : train_file[i][\"context\"]} for i in range(len(train_file))]\n",
    "validation_qa = [{\"id\" : validation_file[i][\"id\"], \"question\" : validation_file[i][\"question\"], \"answers\" : validation_file[i][\"answers\"], \"context\" : validation_file[i][\"context\"]} for i in range(len(validation_file))]"
   ]
  },
  {
   "cell_type": "code",
   "execution_count": 5,
   "id": "0c263556-9669-4026-82d5-9886a8a46c36",
   "metadata": {},
   "outputs": [
    {
     "name": "stdout",
     "output_type": "stream",
     "text": [
      "{'id': 'mrc-1-000067', 'question': '대통령을 포함한 미국의 행정부 견제권을 갖는 국가 기관은?', 'answers': {'answer_start': [229], 'text': ['하원']}, 'context': '미국 상의원 또는 미국 상원(United States Senate)은 양원제인 미국 의회의 상원이다. 미국 부통령이 상원의장이 된다. 각 주당 2명의 상원의원이 선출되어 100명의 상원의원으로 구성되어 있다. 임기는 6년이며, 2년마다 50개주 중 1/3씩 상원의원을 새로 선출하여 연방에 보낸다. 미국 상원은 미국 하원과는 다르게 미국 대통령을 수반으로 하는 미국 연방 행정부에 각종 동의를 하는 기관이다. 하원이 세금과 경제에 대한 권한, 대통령을 포함한 대다수의 공무원을 파면할 권한을 갖고 있는 국민을 대표하는 기관인 반면 상원은 미국의 주를 대표한다. 즉 캘리포니아주, 일리노이주 같이 주 정부와 주 의회를 대표하는 기관이다. 그로 인하여 군대의 파병, 관료의 임명에 대한 동의, 외국 조약에 대한 승인 등 신속을 요하는 권한은 모두 상원에게만 있다. 그리고 하원에 대한 견제 역할(하원의 법안을 거부할 권한 등)을 담당한다. 2년의 임기로 인하여 급진적일 수밖에 없는 하원은 지나치게 급진적인 법안을 만들기 쉽다. 대표적인 예로 건강보험 개혁 당시 하원이 미국 연방 행정부에게 퍼블릭 옵션(공공건강보험기관)의 조항이 있는 반면 상원의 경우 하원안이 지나치게 세금이 많이 든다는 이유로 퍼블릭 옵션 조항을 제외하고 비영리건강보험기관이나 보험회사가 담당하도록 한 것이다. 이 경우처럼 상원은 하원이나 내각책임제가 빠지기 쉬운 국가들의 국회처럼 걸핏하면 발생하는 의회의 비정상적인 사태를 방지하는 기관이다. 상원은 급박한 처리사항의 경우가 아니면 법안을 먼저 내는 경우가 드물고 하원이 만든 법안을 수정하여 다시 하원에 되돌려보낸다. 이러한 방식으로 단원제가 빠지기 쉬운 함정을 미리 방지하는 것이다.날짜=2017-02-05'}\n"
     ]
    }
   ],
   "source": [
    "print(train_qa[0])"
   ]
  },
  {
   "cell_type": "code",
   "execution_count": 6,
   "id": "ff30d5bf-8e54-4537-bcb3-0f64ccfb9203",
   "metadata": {},
   "outputs": [
    {
     "data": {
      "text/plain": [
       "True"
      ]
     },
     "execution_count": 6,
     "metadata": {},
     "output_type": "execute_result"
    }
   ],
   "source": [
    "from elasticsearch import Elasticsearch\n",
    "\n",
    "config = {'host':'localhost', 'port':9200}\n",
    "es = Elasticsearch([config])\n",
    "\n",
    "# test connection\n",
    "es.ping()"
   ]
  },
  {
   "cell_type": "code",
   "execution_count": 7,
   "id": "aeb7dc39-31b1-40f8-8590-474d0269c4f2",
   "metadata": {},
   "outputs": [],
   "source": [
    "# retrieval search라고 보시면 됩니다. 다른 retrieval 사용하시는 분은 retrival에서 context 가져오는 코드로 대체\n",
    "def search_es(es_obj, index_name, question_text, n_results):\n",
    "    '''\n",
    "    Execute an Elasticsearch query on a specified index\n",
    "    \n",
    "    Args:\n",
    "        es_obj (elasticsearch.client.Elasticsearch) - Elasticsearch client object\n",
    "        index_name (str) - Name of index to query\n",
    "        query (dict) - Query DSL\n",
    "        n_results (int) - Number of results to return\n",
    "        \n",
    "    Returns\n",
    "        res - Elasticsearch response object\n",
    "    \n",
    "    '''\n",
    "    \n",
    "    # construct query\n",
    "    query = {\n",
    "            'query': {\n",
    "                'match': {\n",
    "                    'document_text': question_text\n",
    "                    }\n",
    "                }\n",
    "            }\n",
    "    \n",
    "    res = es_obj.search(index=index_name, body=query, size=n_results)\n",
    "    \n",
    "    return res"
   ]
  },
  {
   "cell_type": "code",
   "execution_count": 8,
   "id": "d60db1e7-2764-4256-a396-ffa7425afbb1",
   "metadata": {},
   "outputs": [],
   "source": [
    "# train concat데이터셋 만들기\n",
    "for step, question in enumerate(train_qa):\n",
    "    # 5 => k의 수 (뽑아올 수)\n",
    "    res = search_es(es, \"nori-index\", question[\"question\"], 7)\n",
    "    context_list = [(hit['_source']['document_text'], hit['_score']) for hit in res['hits']['hits']]\n",
    "    add_text = train_qa[step][\"context\"]\n",
    "    count = 0\n",
    "    for context in context_list:\n",
    "        #같은것이 있을 경우 continue 하여 concat X\n",
    "        if question[\"context\"] == context[0]:\n",
    "            continue\n",
    "        add_text += \" \" + context[0]\n",
    "        count += 1\n",
    "        if count == 6:\n",
    "            break\n",
    "    train_qa[step][\"context\"] = add_text"
   ]
  },
  {
   "cell_type": "code",
   "execution_count": 10,
   "id": "b53b6273-306f-488f-88a3-15b6151e4ceb",
   "metadata": {},
   "outputs": [],
   "source": [
    "# validation도 똑같이 사용\n",
    "for step, question in enumerate(validation_qa):\n",
    "    res = search_es(es, \"nori-index\", question[\"question\"], 7)\n",
    "    context_list = [(hit['_source']['document_text'], hit['_score']) for hit in res['hits']['hits']]\n",
    "    add_text = validation_qa[step][\"context\"]\n",
    "    count = 0\n",
    "    for context in context_list:\n",
    "        if question[\"context\"] == context[0]:\n",
    "            continue\n",
    "        add_text += \" \" + context[0]\n",
    "        count += 1\n",
    "        if count == 6:\n",
    "            break\n",
    "    validation_qa[step][\"context\"] = add_text"
   ]
  },
  {
   "cell_type": "code",
   "execution_count": 11,
   "id": "3bb13567-5973-444e-8ba5-9afed9fc6522",
   "metadata": {},
   "outputs": [],
   "source": [
    "import pandas as pd\n",
    "\n",
    "train_df = pd.DataFrame(train_qa)\n",
    "val_df = pd.DataFrame(validation_qa)"
   ]
  },
  {
   "cell_type": "code",
   "execution_count": 12,
   "id": "afb266e0-4916-4d69-9c39-befef0a26ab8",
   "metadata": {},
   "outputs": [],
   "source": [
    "train_f = Features({'answers': Sequence(feature={'text': Value(dtype='string', id=None), 'answer_start': Value(dtype='int32', id=None)}, length=-1, id=None),\n",
    "                    'context': Value(dtype='string', id=None),\n",
    "                    'id': Value(dtype='string', id=None),\n",
    "                    'question': Value(dtype='string', id=None)})"
   ]
  },
  {
   "cell_type": "code",
   "execution_count": 13,
   "id": "c6a30088-3f18-4b35-ae3a-389e0f46f26f",
   "metadata": {},
   "outputs": [],
   "source": [
    "train_datasets = DatasetDict({'train': Dataset.from_pandas(train_df, features=train_f), 'validation': Dataset.from_pandas(val_df, features=train_f)})"
   ]
  },
  {
   "cell_type": "code",
   "execution_count": 14,
   "id": "3312e6c1-5c35-42fc-ad95-514cf04bc3d2",
   "metadata": {},
   "outputs": [],
   "source": [
    "# 확인 절차\n",
    "import pickle\n",
    "def save_pickle(save_path, data_set):\n",
    "    file = open(save_path, \"wb\")\n",
    "    pickle.dump(data_set, file)\n",
    "    file.close()\n",
    "\n",
    "def get_pickle(pickle_path):\n",
    "    f = open(pickle_path, \"rb\")\n",
    "    dataset = pickle.load(f)\n",
    "    f.close()\n",
    "    return dataset\n",
    "\n",
    "save_pickle(\"/opt/ml/lastcode/dataset/train_concat7.pkl\", train_datasets)"
   ]
  },
  {
   "cell_type": "code",
   "execution_count": 15,
   "id": "d1f10a9a-500d-42c4-a1d3-2195be9e610b",
   "metadata": {},
   "outputs": [],
   "source": [
    "text_data = get_pickle(\"/opt/ml/lastcode/dataset/train_concat7.pkl\")"
   ]
  },
  {
   "cell_type": "code",
   "execution_count": 16,
   "id": "2ac0c3aa-5dbc-4231-afa0-7572b4c6b8a0",
   "metadata": {},
   "outputs": [
    {
     "name": "stdout",
     "output_type": "stream",
     "text": [
      "미국 상의원 또는 미국 상원(United States Senate)은 양원제인 미국 의회의 상원이다. 미국 부통령이 상원의장이 된다. 각 주당 2명의 상원의원이 선출되어 100명의 상원의원으로 구성되어 있다. 임기는 6년이며, 2년마다 50개주 중 1/3씩 상원의원을 새로 선출하여 연방에 보낸다. 미국 상원은 미국 하원과는 다르게 미국 대통령을 수반으로 하는 미국 연방 행정부에 각종 동의를 하는 기관이다. 하원이 세금과 경제에 대한 권한, 대통령을 포함한 대다수의 공무원을 파면할 권한을 갖고 있는 국민을 대표하는 기관인 반면 상원은 미국의 주를 대표한다. 즉 캘리포니아주, 일리노이주 같이 주 정부와 주 의회를 대표하는 기관이다. 그로 인하여 군대의 파병, 관료의 임명에 대한 동의, 외국 조약에 대한 승인 등 신속을 요하는 권한은 모두 상원에게만 있다. 그리고 하원에 대한 견제 역할(하원의 법안을 거부할 권한 등)을 담당한다. 2년의 임기로 인하여 급진적일 수밖에 없는 하원은 지나치게 급진적인 법안을 만들기 쉽다. 대표적인 예로 건강보험 개혁 당시 하원이 미국 연방 행정부에게 퍼블릭 옵션(공공건강보험기관)의 조항이 있는 반면 상원의 경우 하원안이 지나치게 세금이 많이 든다는 이유로 퍼블릭 옵션 조항을 제외하고 비영리건강보험기관이나 보험회사가 담당하도록 한 것이다. 이 경우처럼 상원은 하원이나 내각책임제가 빠지기 쉬운 국가들의 국회처럼 걸핏하면 발생하는 의회의 비정상적인 사태를 방지하는 기관이다. 상원은 급박한 처리사항의 경우가 아니면 법안을 먼저 내는 경우가 드물고 하원이 만든 법안을 수정하여 다시 하원에 되돌려보낸다. 이러한 방식으로 단원제가 빠지기 쉬운 함정을 미리 방지하는 것이다.날짜=2017-02-05 내각(內閣, cabinet)은 행정부의 주요 각료들로 구성되는 국가의 주요기관이다. 의원내각제에서 내각은 수상과 여러 장관으로 조직되는 합의체로, 국가의 행정권을 담당하고 국회에 대한 연대책임을 갖는다. 의원내각제에 있어서 내각은 국가행정의 최고기관인 한편 국민이 구성시키는 의회에 의하여 철저히 견제되어 의회민주주의 체제를 이룬다. 그 직접적 유래는 영국에서 국왕의 정치를 자문하던 추밀원에서 찾을 수 있다. 특히 내각은 추밀원의 일개 회의에서 시작하였다가 권한이 집중되어 분리된 기관으로, 이후 국왕의 실권이 사라지고 일명 웨스트민스터 시스템으로 불리는 의원내각제가 성립하면서 의회에 의한 민주적 행정부를 이루게 되었다. 한편 국가원수에게 대부분의 권력이 집중되는 대통령중심제와 군주제에서 내각은 원칙적으로 의결권이 없거나 의결의 구속력이 없는 보좌기관에 불과한 경우가 많다.(예: 대한민국의 국무회의) 대한민국은 국무회의가 내각에 속하며 권한이 대통령에 비해 제한적이다. 과거 왕조시대 때는 고려시대의 중서문하성, 중추원, 육부 또는 조선시대의 의정부와 육조가 내각과 비슷한 성향을 지니고 있었다. 국회에 관해 규정하는 헌법 제4장의 첫 조문이다. 본조에서 말하는 \"국권\"이란 국가가 갖는 지배권을 포괄적으로 나타내는 국가 권력, 곧 국가의 통치권을 의미한다. 국권은 일반적으로 입법권·행정권·사법권의 3권으로 분류되지만, 그 중에서도 주권자인 국민의 의사를 직접 반영하는 기관으로서 국회를 \"최고 기관\"으로 규정한 것이다. 다만, 최고 기관이라 해서 타 기관의 감시와 통제를 받지 않는 것은 아니며 권력 분립 원칙에 따라 국회에 대한 행정권, 사법권의 견제를 받는다. 또한 일본 전체 국민을 대표하는 기관을 국회로 규정함으로써, 국회는 일본의 유일한 입법 기관의 지위를 가지고 있다. 일본 제국 헌법 하에서 입법권은 천황의 권한에 속했으며, 제국의회는 천황의 입법 행위를 보좌하는 기관에 불과했다. 여기서 \"유일한 입법 기관\"의 의미로는 다음과 같은 해석이 있다. * 국회 중심 입법 원칙 : 국회가 국가의 입법권을 독점한다는 원칙 * 국회 단독 입법 원칙 : 국회의 입법은 다른 기관의 간섭 없이 이루어진다는 원칙 또한 국회의 입법에 벗어나지 않는 범위 내에서 행정 기관은 정령 등의 규칙 제정권을 가지며(헌법 제73조 제6호), 최고재판소는 소송에 관한 절차, 변호사 및 재판소에 관한 내부 규율 및 사법 사무 처리에 관한 사항에 대한 규칙 제정권(헌법 제77조 제1항)을 가진다. 이하의 국가들은 의회에서 행정부 수반을 선출한다는 점에서 내각제와 닮았다. 그리고 이들 국가들 중 상당수는 행정부 수반이 의회해산권을 갖고, 의회는 내각불신임권을 갖는데 이점 역시 내각제와 닮았다. 하지만 내각제와 달리 의회에서 선출되는 자는 행정부 수반의 지위 뿐만 아니라 국가 원수의 지위도 가진다. 그래서 의회에서 선출되는 자의 직위는 총리가 아니라, 대통령이다. 이처럼 1인이 행정부 수반과 국가 원수의 지위를 겸한다는 점에서 대통령중심제와 닮았다. 이상과 같은 이유로 이들 국가들의 정부 형태는 대통령제와 내각제의 절충형이지만, 행정 권한이 2인에게로 분리되어 있지 않으므로 이원집정부제는 아니다. * 나우루 * 남아프리카 공화국 * 마셜 제도 * 마카오 * 미얀마 * 미크로네시아 연방 * 보츠와나 * 산마리노 * 수리남 * 키리바시 * 홍콩 1976년 3월 24일, 쿠데타 세력은 육군·해군·공군 사령관을 수장으로 하는 독재 정부기관으로 '국가최고기관'을 결성 했다. 국가재건과정 기간 육군·해군·공군은 독립적인 위치를 차지했고, 서로 자주 의사소통이 잘 되지 않아 마찰을 빚었다. 첫 번째 군사정부는 호르헤 라파엘 비델라(육군사령관), 에밀리오 에두아르도 마세라(해군사령관), 오를란도 라몬 아고스티(공군사령관)로 구성됐다. 국가의 직접 통치권은 군사정부의 감독을 받으며, 행정권·입법권·사법권을 가진 '대통령'의 손에 있는 것으로 결정됐다. 호르헤 라파엘 비델라가 프로세소의 첫 번째 대통령이 됐다. 각각의 군사령부를 대표해서 입법권을 갖기로한 약속에 따라, 법률자문위원회(Comisión Asesora Legislativa , CAL)가 정부 구조를 보완했다. 쿠데타 세력은 앞으로 출범할 군부정부의 기본적인 성격을 암시하며, 그들 자신을 국가재건과정이라고 부르기로 했다. * 이것은 '과정'이지 일정한 목표 기간이 있지 않다. * 정치시스템, 국민문화, 산업관계, 경제를 수정하는 개혁에 의거 국가를 급진적으로 재건한다. 전 세계 원조 NSC로서, 전 세계 언론에 자주 보도되는 것은 1947년 창설된 미국 NSC이다. 주로 백악관의 지하에 마련된 백악관 상황실에서 소집된다. 한국은 대한민국 헌법 91조에 의해 설립되어 있으며, 역시 미국과 같은 청와대 지하벙커가 있다. 미국 국가안전보장회의의 경우, 대통령, 부통령, 국무장관, 국방장관, 백악관 비서실장, 백악관 안보수석, 백악관 안보부수석이 위원이며, 합참의장이나 정보부 책임자는 고문(advisor)일 뿐이다. 상급위원은 외무장관과 국방장관이다. 즉, 대통령, 외무장관, 국방장관 3명이 NSC의 핵심 3인방이다. 대한민국의 경우, NSC 자체가 대통령에 대한 자문(advice)기관이다. 미국 국가안전보장회의는 대통령 지시에 대한 조언과 동의권을 갖고 있다. 대한민국의 NSC가 미국처럼 대통령궁 지하벙커에서 열리며, 전쟁에서 실질적인 전시 작전권을 행사하는 \"긴급비상회의\"의 성격인데 비해, 조선민주주의인민공화국의 NSC라는 국방위원회는, 주석궁 지하벙커에서 개최되는 것이 아니라, 지상에서 개최되는 평시의 공식 회의 기관이라서, \"실질적인 의미\"가 좀 다르다. 2013년 1월 말리 분쟁과 관련, 알제리에서 알카에다가 일본인 인질 12명을 살해했다. 이와 관련, 극우파 성향인 아베 신조 일본 총리는 일본에 미국의 NSC와 유사한 NSC를 만들어야 한다고 주장했다. 그렇다면, 현재의 일본 안전보장회의는 \"총리관저 지하벙커에서 열리는 전시 작전권을 행사하는 긴급비상회의\"는 아니며, 지상에서 평시에 열리는 회의체로 보인다. 2011년 11월 CBS의 여론 조사에 따르면 미국의 대통령이 미국 시민권자를 재판절차 없이 살해하는 권한을 갖는 것에 미국인들은 53%대 35%로 찬성이 반대보다 많았다. 2012년 2월 워싱턴포스트-ABC 공동 여론 조사에서는 무려 83%가 오바마의 드론 정책에 찬성했다. 2013년 2월 4일 미국 NBC는 미국 법무부의 16쪽의 논문형태 백서(White Paper)를 입수해, 보도했다. 미국 시민권자일 경우에도 알카에다 등 해외 테러단체에 소속되어 체포가 불가능한 경우, 미국 법원의 재판 없이, CIA 또는 미군이 드론 등으로 직접 사살해도 합헌적, 합법적이라는 버락 오바마 대통령의 행정명령이 포함된 내용이었다. 현재 인터넷에 원문이 공개되어 있다.\n"
     ]
    }
   ],
   "source": [
    "print(text_data[\"train\"][\"context\"][0])"
   ]
  },
  {
   "cell_type": "code",
   "execution_count": null,
   "id": "c456ef87-d9b8-4012-a296-3ca9727df797",
   "metadata": {},
   "outputs": [],
   "source": []
  }
 ],
 "metadata": {
  "kernelspec": {
   "display_name": "Python 3",
   "language": "python",
   "name": "python3"
  },
  "language_info": {
   "codemirror_mode": {
    "name": "ipython",
    "version": 3
   },
   "file_extension": ".py",
   "mimetype": "text/x-python",
   "name": "python",
   "nbconvert_exporter": "python",
   "pygments_lexer": "ipython3",
   "version": "3.7.7"
  }
 },
 "nbformat": 4,
 "nbformat_minor": 5
}
